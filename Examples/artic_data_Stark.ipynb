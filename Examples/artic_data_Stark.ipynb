{
 "cells": [
  {
   "cell_type": "markdown",
   "metadata": {},
   "source": [
    "## PFFP Code Intro\n",
    "\n",
    "The purpose of this notebook is to detail the features and steps to process PFFP binary code information.\n",
    "\n",
    "Date: 09/09/2024\n",
    "\n",
    "Name: Jonathan Moore"
   ]
  },
  {
   "cell_type": "markdown",
   "metadata": {},
   "source": [
    "## Library/Module importing\n",
    "\n",
    "This step is so that the libraries required can be accessed by the local code"
   ]
  },
  {
   "cell_type": "code",
   "execution_count": null,
   "metadata": {},
   "outputs": [],
   "source": [
    "import matplotlib.pyplot as plt\n",
    "import sys\n",
    "import os\n",
    "import numpy as np"
   ]
  },
  {
   "cell_type": "markdown",
   "metadata": {},
   "source": [
    "#### Add the BlueDrop Analysis library to the current path\n",
    "This is necessary for the time being since the library hasn't been converted a python package yet"
   ]
  },
  {
   "cell_type": "code",
   "execution_count": null,
   "metadata": {},
   "outputs": [],
   "source": [
    "sys.path.append(\"../../BlueDrop_Analysis_Lib\")"
   ]
  },
  {
   "cell_type": "markdown",
   "metadata": {},
   "source": [
    "### Local Imports\n",
    "These are imports from the actual BlueDrop Analysis Lib that our team wrote"
   ]
  },
  {
   "cell_type": "code",
   "execution_count": null,
   "metadata": {},
   "outputs": [],
   "source": [
    "# Local loads\n",
    "\n",
    "# This class represent the Folder that contains the pffp data\n",
    "from lib.data_classes.pffpFolder import pffpDataFolder"
   ]
  },
  {
   "cell_type": "markdown",
   "metadata": {},
   "source": [
    "### Set the necessary paths\n",
    "These paths will be used to retrieve the data, dimensions of the BlueDrop, and Calibration Data\n"
   ]
  },
  {
   "cell_type": "code",
   "execution_count": null,
   "metadata": {},
   "outputs": [],
   "source": [
    "# Data folder\n",
    "# folder_dir = r\"C:\\Geotech_Research\\Field_Analysis\\BlueDrop_Analysis_Lib\\stark_drops\"\n",
    "folder_dir = os.path.join(os.pardir, \"Artic_exmp_data\")\n",
    "\n",
    "# PFFP sensor data\n",
    "calibration_dir = os.path.join(os.pardir, \"calibration_factors/BlueDrop_Calibration_Factors.xlsx\")\n",
    "\n",
    "# PFFP tip information\n",
    "tip_dir = os.path.join(os.pardir, \"calibration_factors/BluedDrop_Cone_Values.xlsx\")\n"
   ]
  },
  {
   "cell_type": "markdown",
   "metadata": {},
   "source": [
    "### Creating the pffp Data folder\n",
    "\n",
    "The purpose of the next cell is to create the ```pffp_data_folder``` and load the correct calibration factors to convert the voltages measured by the BlueDrop sensors to engineering units (g's, meters, pressure (kPa))"
   ]
  },
  {
   "cell_type": "code",
   "execution_count": null,
   "metadata": {},
   "outputs": [],
   "source": [
    "# Set the name for the survey \n",
    "name = \"VIM_Mouth_1\"\n",
    "\n",
    "# Set the id for the pffp\n",
    "id = 1\n",
    "\n",
    "# Create the object that will represent the folder with the pffp data in it\n",
    "pffp_data_folder = pffpDataFolder(folder_dir, pffp_id = id, calibration_factor_dir=calibration_dir, survey_name = name)\n",
    "\n",
    "# Read the calibration data\n",
    "pffp_data_folder.read_calibration_excel_sheet()\n",
    "\n",
    "# Select the specific calibration params\n",
    "if id == 3:\n",
    "    pffp_data_folder.get_sensor_calibration_params(\"Sequim_2021\")\n",
    "elif id == 1:\n",
    "    pffp_data_folder.get_sensor_calibration_params(\"March_2023\")\n",
    "elif id ==9:\n",
    "    pffp_data_folder.get_sensor_calibration_params(\"October_2023\")\n",
    "else:\n",
    "    raise ValueError(\"not a valid pffp id\")\n"
   ]
  },
  {
   "cell_type": "markdown",
   "metadata": {},
   "source": [
    "#### Display the selected calibration factors"
   ]
  },
  {
   "cell_type": "code",
   "execution_count": null,
   "metadata": {},
   "outputs": [],
   "source": [
    "display(pffp_data_folder.calibration_excel_sheet)"
   ]
  },
  {
   "cell_type": "markdown",
   "metadata": {},
   "source": [
    "### Find all the pffp files\n",
    "\n",
    "The next cell finds all the pffp files and stores a reference to them. The way it does this is by searching to find all the ```.bin``` files in the folder. As such, make sure there are no other files in the folder that have a ```.bin``` file extension."
   ]
  },
  {
   "cell_type": "code",
   "execution_count": null,
   "metadata": {},
   "outputs": [],
   "source": [
    "# Init a pffpFile instances for each binary file and store the results in the folder\n",
    "pffp_data_folder.store_pffp_files(recursive = False)\n",
    "\n",
    "# Print Meta-data about the pffp_data_folder including the number of .bin files found.\n",
    "print(pffp_data_folder) # Information about the folder"
   ]
  },
  {
   "cell_type": "code",
   "execution_count": null,
   "metadata": {},
   "outputs": [],
   "source": [
    "# Figures out if the .bin file has a drop\n",
    "pffp_data_folder.analyze_all_files(store_df=True, use_pore_pressure=False, \n",
    "                              select_accel=[\"2g_accel\", \"18g_accel\", \"50g_accel\", \"250g_accel\"],\n",
    "                              debug = False)"
   ]
  },
  {
   "cell_type": "markdown",
   "metadata": {},
   "source": [
    "### Processing Drop Files\n",
    "\n",
    "The next cell processes the files that unequivocally have drops in them.\n",
    "\n",
    "This means that for each drop in each file that contains a drop the following are done:\n",
    "\n",
    "* An object is created to represent each drop \n",
    "* The start and end of the drop are found\n",
    "* The acceleration data is integrated to get the velocity and displacement"
   ]
  },
  {
   "cell_type": "code",
   "execution_count": null,
   "metadata": {},
   "outputs": [],
   "source": [
    "# Figure out the beginning and the end of the drops if the files contain drops\n",
    "pffp_data_folder.process_drop_files()"
   ]
  },
  {
   "cell_type": "markdown",
   "metadata": {},
   "source": [
    "### Processing Funky Files\n",
    "\n",
    "For funky files there's at least one drop in the file that the code isn't sure if it's a drop or not. As such, those files need to be processed by hand. The following cell details the steps that are necessary to do that.\n",
    "\n",
    "If the code doesn't find any funky files that this step isn't necessary."
   ]
  },
  {
   "cell_type": "code",
   "execution_count": null,
   "metadata": {},
   "outputs": [],
   "source": [
    "# Steps to process funky files\n",
    "\n",
    "# Loop over all the files that are funky\n",
    "for file in pffp_data_folder.pffp_funky_files:\n",
    "\n",
    "    # Manual Process the drop. This method will take you through the process of manually processing the drop\n",
    "    file.manually_process_drops(interactive_plot=True)"
   ]
  },
  {
   "cell_type": "markdown",
   "metadata": {},
   "source": [
    "### Print out folder metadata\n",
    "\n",
    "Printing out the folder meta-data again to see how it's been updated."
   ]
  },
  {
   "cell_type": "code",
   "execution_count": null,
   "metadata": {},
   "outputs": [],
   "source": [
    "# Print information about the folder object\n",
    "print(pffp_data_folder)"
   ]
  },
  {
   "cell_type": "markdown",
   "metadata": {},
   "source": [
    "## Info on the next section\n",
    "\n",
    "The following cells walk using the prebuilt plotting functions for files and drops. For simplicity instead referencing an element of the ```pffp_data_folder.pffp_drop_files``` list (eg. ```pffp_data_folder.pffp_drop_files[0]```) the file object will be stored in a variable named ```file```. Similary, instead of referring to a drop inside of ```pffp_data_folder.pffp_drop_files[i].drops[j]``` where ```i``` can range from 0 to the number of drop files minus one and ```j``` can range from 0 to the number of drops inside that specific file, the drop object will be stored in a variable named ```drop```. "
   ]
  },
  {
   "cell_type": "markdown",
   "metadata": {},
   "source": [
    "### Exploring the pffpFile object"
   ]
  },
  {
   "cell_type": "code",
   "execution_count": null,
   "metadata": {},
   "outputs": [],
   "source": [
    "# Store the first drop file\n",
    "\n",
    "# The load order is different on windows and linux. For the purpose of this demonstration make sure the same file and drop is selected\n",
    "\n",
    "# Set the indices for the file, drop indices\n",
    "\n",
    "if os.name == \"nt\":\n",
    "    # windows computer\n",
    "    file_index, drop_index = 0, 0\n",
    "elif os.name == \"posix\":\n",
    "    # Linux computer\n",
    "    # file_index, drop_index = -2, 0 \n",
    "    file_index, drop_index = -2, 1 \n",
    "\n",
    "file = pffp_data_folder.pffp_drop_files[file_index]\n",
    "\n",
    "# Store the first drop\n",
    "drop = pffp_data_folder.pffp_drop_files[file_index].drops[drop_index]\n"
   ]
  },
  {
   "cell_type": "code",
   "execution_count": null,
   "metadata": {},
   "outputs": [],
   "source": [
    "print(file.drops[0])"
   ]
  },
  {
   "cell_type": "code",
   "execution_count": null,
   "metadata": {},
   "outputs": [],
   "source": [
    "# file.manually_add_drop(peak_index = None, file_drop_index = 99, peak_info = None, pressure_check = False)\n"
   ]
  },
  {
   "cell_type": "code",
   "execution_count": null,
   "metadata": {},
   "outputs": [],
   "source": [
    "# file.manually_process_drops(interactive_plot=True, figsize = (12,12))"
   ]
  },
  {
   "cell_type": "code",
   "execution_count": null,
   "metadata": {},
   "outputs": [],
   "source": [
    "drop = file.drops[-1]"
   ]
  },
  {
   "cell_type": "code",
   "execution_count": null,
   "metadata": {},
   "outputs": [],
   "source": [
    "print(file)"
   ]
  },
  {
   "cell_type": "code",
   "execution_count": null,
   "metadata": {},
   "outputs": [],
   "source": [
    "print(file.drops[0])"
   ]
  },
  {
   "cell_type": "code",
   "execution_count": null,
   "metadata": {},
   "outputs": [],
   "source": [
    "drop = file.drops[0]\n",
    "print(drop)\n",
    "drop.impulse_df"
   ]
  },
  {
   "cell_type": "code",
   "execution_count": null,
   "metadata": {},
   "outputs": [],
   "source": [
    "file.plot_drop_impulses(figsize = [4,6], save_figs = False, hold = True, legend = True,\n",
    "                        colors = [\"black\", \"blue\", \"green\", \"orange\", \"purple\", \"brown\"],\n",
    "                        units = {\"Time\":\"s\", \"accel\":\"g\", \"velocity\":\"m/s\", \"displacement\":\"cm\"},\n",
    "                        line_style = [\"solid\", \"dashed\"])"
   ]
  },
  {
   "cell_type": "code",
   "execution_count": null,
   "metadata": {},
   "outputs": [],
   "source": []
  }
 ],
 "metadata": {
  "kernelspec": {
   "display_name": "PFFP_Analysis",
   "language": "python",
   "name": "python3"
  },
  "language_info": {
   "codemirror_mode": {
    "name": "ipython",
    "version": 3
   },
   "file_extension": ".py",
   "mimetype": "text/x-python",
   "name": "python",
   "nbconvert_exporter": "python",
   "pygments_lexer": "ipython3",
   "version": "3.12.5"
  }
 },
 "nbformat": 4,
 "nbformat_minor": 2
}
