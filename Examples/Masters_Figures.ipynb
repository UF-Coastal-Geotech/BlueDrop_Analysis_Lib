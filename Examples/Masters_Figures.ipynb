{
 "cells": [
  {
   "cell_type": "markdown",
   "metadata": {},
   "source": [
    "## PFFP Code Intro\n",
    "\n",
    "The purpose of this notebook is to detail the features and steps to process PFFP binary code information.\n",
    "\n",
    "Date: 09/09/2024\n",
    "\n",
    "Name: Jonathan Moore"
   ]
  },
  {
   "cell_type": "markdown",
   "metadata": {},
   "source": [
    "## Library/Module importing\n",
    "\n",
    "This step is so that the libraries required can be accessed by the local code"
   ]
  },
  {
   "cell_type": "code",
   "execution_count": null,
   "metadata": {},
   "outputs": [],
   "source": [
    "import matplotlib.pyplot as plt\n",
    "import sys\n",
    "import os\n",
    "import numpy as np\n",
    "import time"
   ]
  },
  {
   "cell_type": "markdown",
   "metadata": {},
   "source": [
    "#### Add the BlueDrop Analysis library to the current path\n",
    "This is necessary for the time being since the library hasn't been converted a python package yet"
   ]
  },
  {
   "cell_type": "code",
   "execution_count": null,
   "metadata": {},
   "outputs": [],
   "source": [
    "sys.path.append(\"../../BlueDrop_Analysis_Lib\")"
   ]
  },
  {
   "cell_type": "markdown",
   "metadata": {},
   "source": [
    "### Local Imports\n",
    "These are imports from the actual BlueDrop Analysis Lib that our team wrote"
   ]
  },
  {
   "cell_type": "code",
   "execution_count": null,
   "metadata": {},
   "outputs": [],
   "source": [
    "# Local loads\n",
    "\n",
    "# This class represent the Folder that contains the pffp data\n",
    "from lib.data_classes.pffpFolder import pffpDataFolder"
   ]
  },
  {
   "cell_type": "markdown",
   "metadata": {},
   "source": [
    "### Set the necessary paths\n",
    "These paths will be used to retrieve the data, dimensions of the BlueDrop, and Calibration Data\n"
   ]
  },
  {
   "cell_type": "code",
   "execution_count": null,
   "metadata": {},
   "outputs": [],
   "source": [
    "# Data folder\n",
    "# folder_dir = r\"C:\\Geotech_Research\\Field_Analysis\\BlueDrop_Analysis_Lib\\stark_drops\"\n",
    "folder_dir = os.path.join(os.pardir, \"Mouth_1\")\n",
    "\n",
    "# PFFP sensor data\n",
    "calibration_dir = os.path.join(os.pardir, \"calibration_factors/BlueDrop_Calibration_Factors.xlsx\")\n",
    "\n",
    "# PFFP tip information\n",
    "tip_dir = os.path.join(os.pardir, \"calibration_factors/BluedDrop_Cone_Values.xlsx\")\n"
   ]
  },
  {
   "cell_type": "markdown",
   "metadata": {},
   "source": [
    "### Creating the pffp Data folder\n",
    "\n",
    "The purpose of the next cell is to create the ```pffp_data_folder``` and load the correct calibration factors to convert the voltages measured by the BlueDrop sensors to engineering units (g's, meters, pressure (kPa))"
   ]
  },
  {
   "cell_type": "code",
   "execution_count": null,
   "metadata": {},
   "outputs": [],
   "source": [
    "# Set the name for the survey \n",
    "name = \"VIM_Mouth_1\"\n",
    "\n",
    "# Set the id for the pffp\n",
    "id = 3\n",
    "\n",
    "# Create the object that will represent the folder with the pffp data in it\n",
    "pffp_data_folder = pffpDataFolder(folder_dir, pffp_id = id, calibration_factor_dir=calibration_dir, survey_name = name)\n",
    "\n",
    "# Read the calibration data\n",
    "pffp_data_folder.read_calibration_excel_sheet()\n",
    "\n",
    "# Select the specific calibration params\n",
    "if id == 3:\n",
    "    pffp_data_folder.get_sensor_calibration_params(\"Sequim_2021\")\n",
    "elif id == 1:\n",
    "    pffp_data_folder.get_sensor_calibration_params(\"March_2023\")\n",
    "elif id ==9:\n",
    "    pffp_data_folder.get_sensor_calibration_params(\"October_2023\")\n",
    "else:\n",
    "    raise ValueError(\"not a valid pffp id\")\n"
   ]
  },
  {
   "cell_type": "markdown",
   "metadata": {},
   "source": [
    "#### Display the selected calibration factors"
   ]
  },
  {
   "cell_type": "code",
   "execution_count": null,
   "metadata": {},
   "outputs": [],
   "source": [
    "display(pffp_data_folder.calibration_excel_sheet)"
   ]
  },
  {
   "cell_type": "markdown",
   "metadata": {},
   "source": [
    "### Find all the pffp files\n",
    "\n",
    "The next cell finds all the pffp files and stores a reference to them. The way it does this is by searching to find all the ```.bin``` files in the folder. As such, make sure there are no other files in the folder that have a ```.bin``` file extension."
   ]
  },
  {
   "cell_type": "code",
   "execution_count": null,
   "metadata": {},
   "outputs": [],
   "source": [
    "# Init a pffpFile instances for each binary file and store the results in the folder\n",
    "pffp_data_folder.store_pffp_files(recursive = False)\n",
    "\n",
    "# Print Meta-data about the pffp_data_folder including the number of .bin files found.\n",
    "print(pffp_data_folder) # Information about the folder"
   ]
  },
  {
   "cell_type": "markdown",
   "metadata": {},
   "source": [
    "### Analyze the files\n",
    "\n",
    "The purpose of this step is to determine which files have drops in them. \n",
    "\n",
    "The possible scenarios are:\n",
    "\n",
    "#### Drop in file\n",
    "If the code unequivocally finds all the drops in the file, then the reference to the file object is stored in the ```pffp_drop_files``` list. \n",
    "\n",
    "#### No Drop in file\n",
    "If the code unequivocally finds no drops in the file, then the reference to the file object is stored in the ```pffp_no_drop_files``` list. Additionally, the actual ```.bin``` file is moved into a subdirectory of the current working folder, that will contain the files that don't have drops in them. The default name for this folder is ```no_drop_folder```\n",
    "\n",
    "#### Code can't figure out if there's a drop or not\n",
    "When the code can't determine if the file does or does not contain a drop, the files are treated as \"funky\" files. Similar to the \"no drop\" files the funky files have their actual '''.bin''' file moved into a subdirectory of the current working folder. The name for this folder is ```funky_folder```. \n",
    "\n",
    "#### Accessing the lists that contain the different file types\n",
    "Given that the folder object in this example is called ```pffp_data_folder```, the different lists can be accessed in the following ways:\n",
    "\n",
    "* Files that unequivocally contain drops       : ```pffp_data_folder.pffp_drop_files```\n",
    "* Files that unequivocallyt don't contain drops: ```pffp_data_folder.pffp_no_drop_files```\n",
    "* Files that have a funky status               : ```pffp_data_folder.pffp_funky_files```\n"
   ]
  },
  {
   "cell_type": "code",
   "execution_count": null,
   "metadata": {},
   "outputs": [],
   "source": [
    "# Calc the time it takes to read in a binary file to a df in engineering units\n",
    "start = time.time()\n",
    "pffp_data_folder.pffp_files[0].binary_2_sensor_df()\n",
    "end = time.time()\n",
    "print(end - start)"
   ]
  },
  {
   "cell_type": "code",
   "execution_count": null,
   "metadata": {},
   "outputs": [],
   "source": [
    "# Figure out the files that have a drop in them and calculate the time that it takes to do that\n",
    "start = time.time()\n",
    "# Figures out if the .bin file has a drop\n",
    "pffp_data_folder.analyze_all_files(store_df=True, use_pore_pressure=True, \n",
    "                              select_accel=[\"2g_accel\", \"18g_accel\", \"50g_accel\", \"250g_accel\"],\n",
    "                              debug = False)\n",
    "\n",
    "end = time.time()\n",
    "\n"
   ]
  },
  {
   "cell_type": "code",
   "execution_count": null,
   "metadata": {},
   "outputs": [],
   "source": [
    "# Calc the time that it takes to analyze a single file for a drop\n",
    "analyze_files_time = end - start\n",
    "single_file_time = analyze_files_time/pffp_data_folder.num_drop_files\n",
    "print(f\"Time to analyze a file: {single_file_time:.2f} (s)\")"
   ]
  },
  {
   "cell_type": "markdown",
   "metadata": {},
   "source": [
    "### Processing Drop Files\n",
    "\n",
    "The next cell processes the files that unequivocally have drops in them.\n",
    "\n",
    "This means that for each drop in each file that contains a drop the following are done:\n",
    "\n",
    "* An object is created to represent each drop \n",
    "* The start and end of the drop are found\n",
    "* The acceleration data is integrated to get the velocity and displacement"
   ]
  },
  {
   "cell_type": "code",
   "execution_count": null,
   "metadata": {},
   "outputs": [],
   "source": [
    "# Figure out the beginning and the end of the drops if the files contain drops and store the time it takes\n",
    "start = time.time()\n",
    "pffp_data_folder.process_drop_files()\n",
    "\n",
    "end = time.time()"
   ]
  },
  {
   "cell_type": "code",
   "execution_count": null,
   "metadata": {},
   "outputs": [],
   "source": [
    "# Calc the time it takes to process each drop\n",
    "process_drops_time = end - start\n",
    "# Init number of drops\n",
    "num_drops = 0\n",
    "\n",
    "# Get the total number of drops\n",
    "for file in pffp_data_folder.pffp_drop_files:\n",
    "    num_drops += file.num_drops\n",
    "\n",
    "process_drop_time = process_drops_time/num_drops\n",
    "print(f\"Average time to process a drop: {process_drop_time:.5f} (s)\")"
   ]
  },
  {
   "cell_type": "markdown",
   "metadata": {},
   "source": [
    "### Processing Funky Files\n",
    "\n",
    "For funky files there's at least one drop in the file that the code isn't sure if it's a drop or not. As such, those files need to be processed by hand. The following cell details the steps that are necessary to do that.\n",
    "\n",
    "If the code doesn't find any funky files that this step isn't necessary."
   ]
  },
  {
   "cell_type": "code",
   "execution_count": null,
   "metadata": {},
   "outputs": [],
   "source": [
    "# Steps to process funky files\n",
    "\n",
    "# Loop over all the files that are funky\n",
    "for file in pffp_data_folder.pffp_funky_files:\n",
    "\n",
    "    # Manual Process the drop. This method will take you through the process of manually processing the drop\n",
    "    file.manually_process_drops(interactive_plot=True)"
   ]
  },
  {
   "cell_type": "markdown",
   "metadata": {},
   "source": [
    "### Print out folder metadata\n",
    "\n",
    "Printing out the folder meta-data again to see how it's been updated."
   ]
  },
  {
   "cell_type": "code",
   "execution_count": null,
   "metadata": {},
   "outputs": [],
   "source": [
    "# Print information about the folder object\n",
    "print(pffp_data_folder)"
   ]
  },
  {
   "cell_type": "markdown",
   "metadata": {},
   "source": [
    "## Info on the next section\n",
    "\n",
    "The following cells walk using the prebuilt plotting functions for files and drops. For simplicity instead referencing an element of the ```pffp_data_folder.pffp_drop_files``` list (eg. ```pffp_data_folder.pffp_drop_files[0]```) the file object will be stored in a variable named ```file```. Similary, instead of referring to a drop inside of ```pffp_data_folder.pffp_drop_files[i].drops[j]``` where ```i``` can range from 0 to the number of drop files minus one and ```j``` can range from 0 to the number of drops inside that specific file, the drop object will be stored in a variable named ```drop```. "
   ]
  },
  {
   "cell_type": "markdown",
   "metadata": {},
   "source": [
    "### Exploring the pffpFile object"
   ]
  },
  {
   "cell_type": "code",
   "execution_count": null,
   "metadata": {},
   "outputs": [],
   "source": [
    "# Store the first drop file\n",
    "\n",
    "# The load order is different on windows and linux. For the purpose of this demonstration make sure the same file and drop is selected\n",
    "\n",
    "# Set the indices for the file, drop indices\n",
    "\n",
    "if os.name == \"nt\":\n",
    "    # windows computer\n",
    "    file_index, drop_index = 0, 0\n",
    "elif os.name == \"posix\":\n",
    "    # Linux computer\n",
    "    file_index, drop_index = -1, 0 \n",
    "\n",
    "file = pffp_data_folder.pffp_drop_files[file_index]\n",
    "\n",
    "# Store the first drop\n",
    "drop = pffp_data_folder.pffp_drop_files[file_index].drops[drop_index]\n"
   ]
  },
  {
   "cell_type": "markdown",
   "metadata": {},
   "source": [
    "### Looking into the ```file```\n"
   ]
  },
  {
   "cell_type": "markdown",
   "metadata": {},
   "source": [
    "### Printing the file meta-data"
   ]
  },
  {
   "cell_type": "code",
   "execution_count": null,
   "metadata": {},
   "outputs": [],
   "source": [
    "print(file)"
   ]
  },
  {
   "cell_type": "code",
   "execution_count": null,
   "metadata": {},
   "outputs": [],
   "source": [
    "# Plot the whole file\n",
    "\n",
    "figsize = (8, 8)\n",
    "set_dpi =300\n",
    "fig, axs = plt.subplots(ncols = 1, nrows = 3, figsize = (figsize[0], figsize[1]))\n",
    "\n",
    "file.quick_view(fig = fig, axs = axs, interactive=False, legend=True)\n",
    "# fig.savefig(\"/home/jmoore/Documents/Master_Thesis/chapters/5_Analysis_Lib/data_plots/water_drop_base.pdf\", dpi =set_dpi)"
   ]
  },
  {
   "cell_type": "code",
   "execution_count": null,
   "metadata": {},
   "outputs": [],
   "source": [
    "# figsize = (12, 12)\n",
    "# set_dpi =300\n",
    "# fig, axs = plt.subplots(ncols = 1, nrows = 3, figsize = (figsize[0], figsize[1]), dpi = set_dpi)\n",
    "# # axs[0].set_xlim[0.1]\n",
    "# for ax in axs:\n",
    "#     ax.set_xlim([0.122, 0.178])\n",
    "\n",
    "# fig.legend(loc = \"center\")\n",
    "# file.quick_view(fig = fig, axs = axs, interactive=False, legend = True)\n",
    "# # fig.savefig(\"/home/jmoore/Documents/Master_Thesis/chapters/5_Analysis_Lib/data_plots/water_drop_zoom_base.pdf\", dpi =set_dpi)\n"
   ]
  },
  {
   "cell_type": "markdown",
   "metadata": {},
   "source": [
    "### Exploring the ```Drop``` object\n",
    "\n",
    "```Drop``` objects contain direct information about a single drop in a file.\n",
    "\n",
    "Note:\n",
    "* Acceleration data in the drop object includes a 1g offset down. This is so the integration of the kinematics can be done correctly."
   ]
  },
  {
   "cell_type": "markdown",
   "metadata": {},
   "source": [
    "#### Print the drop meta-data"
   ]
  },
  {
   "cell_type": "code",
   "execution_count": null,
   "metadata": {},
   "outputs": [],
   "source": [
    "print(drop)"
   ]
  },
  {
   "cell_type": "markdown",
   "metadata": {},
   "source": [
    "#### Plotting the kinematics of the entire drop\n",
    "\n",
    "This plot goes from the point of release to the point the drop ends."
   ]
  },
  {
   "cell_type": "code",
   "execution_count": null,
   "metadata": {},
   "outputs": [],
   "source": [
    "drop.quick_view_release(interactive=False, legend=False, figsize = (8, 6))"
   ]
  },
  {
   "cell_type": "markdown",
   "metadata": {},
   "source": [
    "#### Plotting the kinematics of the impact (impulse)\n",
    "\n",
    "Plots the drop kinematics just during the impact."
   ]
  },
  {
   "cell_type": "code",
   "execution_count": null,
   "metadata": {},
   "outputs": [],
   "source": [
    "drop.quick_view_impulse(interactive=False, legend = False, figsize = (8, 6))"
   ]
  },
  {
   "cell_type": "code",
   "execution_count": null,
   "metadata": {},
   "outputs": [],
   "source": [
    "time = 0.05\n",
    "accel_mag = 0.55\n",
    "vel = 1/2 * (accel_mag * time)\n",
    "disp = vel * time # Approximate the delta displacement\n",
    "\n",
    "print(f\"Velocity: {vel:.2f}\")\n",
    "print(f\"Disp: {disp:.2e}\")"
   ]
  },
  {
   "cell_type": "markdown",
   "metadata": {},
   "source": [
    "#### Plot the impulse selection\n",
    "\n",
    "This plots a comparison of the part of the drop identified as the impact (impulse) and some of the drop on either end."
   ]
  },
  {
   "cell_type": "code",
   "execution_count": null,
   "metadata": {},
   "outputs": [],
   "source": [
    "set_dpi = 300\n",
    "fig, axs = plt.subplots(nrows = 1, ncols = 1, figsize = (6,4))\n",
    "\n",
    "drop.quick_view_impulse_selection(offset = 100, legend = True, draw_line = True, line_val = 0, \n",
    "                                  fig = fig, axs = axs)\n",
    "\n",
    "fig.savefig(\"/home/jmoore/Documents/Master_Thesis/chapters/Analysis_Lib/results_plots/selected_impulse_overlay.pdf\", dpi =set_dpi)\n"
   ]
  },
  {
   "cell_type": "code",
   "execution_count": null,
   "metadata": {},
   "outputs": [],
   "source": [
    "# for file in pffp_data_folder.pffp_drop_files:\n",
    "#     file.quick_view()"
   ]
  },
  {
   "cell_type": "markdown",
   "metadata": {},
   "source": [
    "#### Set the pffp config for the drop\n",
    "\n",
    "As the pffp config can change drop to drop. The settings need to be set for each drop individually. This could be done as a loop over all the drops if they have have the same configuration."
   ]
  },
  {
   "cell_type": "code",
   "execution_count": null,
   "metadata": {},
   "outputs": [],
   "source": [
    "pffp_id = pffp_data_folder.pffp_id\n",
    "drop.get_pffp_tip_values(pffp_id=pffp_id, tip_type=\"cone\", date_string = \"April_2024\", file_dir = tip_dir)\n",
    "\n",
    "drop.water_drop = 1\n"
   ]
  },
  {
   "cell_type": "code",
   "execution_count": null,
   "metadata": {},
   "outputs": [],
   "source": [
    "\n",
    "# Convert the tip values from the ones in the excel sheet to the ones used in the analysis\n",
    "drop.convert_tip_vals()"
   ]
  },
  {
   "cell_type": "markdown",
   "metadata": {},
   "source": [
    "#### Print the information about the tip configuration for the drop"
   ]
  },
  {
   "cell_type": "code",
   "execution_count": null,
   "metadata": {},
   "outputs": [],
   "source": [
    "# Print the cone type\n",
    "print(f\"Cone type: {drop.pffp_config[\"tip_type\"]}\")\n",
    "\n",
    "# Display the tip props df\n",
    "display(drop.pffp_config[\"tip_props\"])"
   ]
  },
  {
   "cell_type": "markdown",
   "metadata": {},
   "source": [
    "### Calculate the bearing capacity\n",
    "\n",
    "The next section is on calculating the bearing capacity. The method demonstrated here is using the historic quasi-static bearing capacity method. The White et al. method is also implemented but that isn't demonstrated here as the current soil is likely a clayey soil."
   ]
  },
  {
   "cell_type": "code",
   "execution_count": null,
   "metadata": {},
   "outputs": [],
   "source": [
    "# Set k_factor values that are wanted\n",
    "k_factor_vals = [0.2, 0.5, 0.9, 1.2, 1.5]\n",
    "\n",
    "# Set the drag coefficient\n",
    "drag_coeff = 0.0 # 0.13830 # testing a drag coefficient of 0.13830 \n",
    "for name in [\"mantle\", \"projected\"]:\n",
    "    drop.water_drop = True\n",
    "    drop.calc_drop_contact_area(area_type = name)\n",
    "    drop.calc_drop_dynamic_bearing(area_type = name, drag_coeff = drag_coeff)\n",
    "    for val in k_factor_vals:\n",
    "        drop.calc_drop_qs_bearing(k_factor = val, area_type = name)\n",
    "        drop.calc_drop_qs_bearing(k_factor = val, area_type = name)\n",
    "\n"
   ]
  },
  {
   "cell_type": "markdown",
   "metadata": {},
   "source": [
    "#### Showing the bearing capacity dfs\n",
    "\n",
    "When the bearing capacity is calculated the results are stored in a dataframe. The dfs are stored as ```projected``` and ```mantle```"
   ]
  },
  {
   "cell_type": "code",
   "execution_count": null,
   "metadata": {},
   "outputs": [],
   "source": [
    "drop.bearing_dfs.keys()"
   ]
  },
  {
   "cell_type": "code",
   "execution_count": null,
   "metadata": {},
   "outputs": [],
   "source": [
    "drop.bearing_dfs[\"projected\"]"
   ]
  },
  {
   "cell_type": "code",
   "execution_count": null,
   "metadata": {},
   "outputs": [],
   "source": [
    "drop.bearing_dfs[\"mantle\"]"
   ]
  },
  {
   "cell_type": "markdown",
   "metadata": {},
   "source": [
    "#### Plot the bearing capacity\n",
    "\n",
    "The following plots the calculated bearing capacity graphs."
   ]
  },
  {
   "cell_type": "code",
   "execution_count": null,
   "metadata": {},
   "outputs": [],
   "source": [
    "k_factor_vals = [0.2, 0.5, 0.9, 1.2, 1.5]\n",
    "\n",
    "displacement = drop.impulse_df[\"displacement\"]\n",
    "df = drop.bearing_dfs[\"mantle\"]\n",
    "\n",
    "start = 30\n",
    "# start = 0\n",
    "end = -1\n",
    "for val in k_factor_vals:\n",
    "    column = \"qsbc_mant_{}\".format(val)\n",
    "    k_name=  \"k = {}\".format(val)\n",
    "    bearing = df[column][start:end]\n",
    "    bearing = bearing/1e3\n",
    "    plt.plot(bearing, displacement[start:end] * 100, label= k_name)\n",
    "\n",
    "# Format the plot\n",
    "plt.title(\"Predicted (Mantle) Bearing Capacity vs. Depth\")\n",
    "plt.ylabel(\"Penetration Depth (cm)\")\n",
    "plt.xlabel(\"QSBC (kPa)\")\n",
    "plt.gca().invert_yaxis()\n",
    "plt.legend()\n",
    "\n",
    "# Save the figure\n",
    "save = False\n",
    "\n",
    "if save:\n",
    "    plt.savefig(\"Bearing_Plot.png\", dpi = 300)\n",
    "\n",
    "# Show the figure\n",
    "plt.show()"
   ]
  },
  {
   "cell_type": "markdown",
   "metadata": {},
   "source": [
    "#### Generate the traditional plot\n",
    "\n",
    "There's a plan to make this into a function that lets you save the figure. I haven't gotten around to it yet."
   ]
  },
  {
   "cell_type": "code",
   "execution_count": null,
   "metadata": {},
   "outputs": [],
   "source": [
    "# Store  the data to make it easier to write in the plot function\n",
    "df = drop.impulse_df\n",
    "time = df[\"Time\"]\n",
    "accel = df[\"accel\"]/9.81\n",
    "displacement =  df[\"displacement\"] * 100\n",
    "velocity = df[\"velocity\"]\n",
    "\n",
    "# Create the subplot\n",
    "fig, axs = plt.subplots(nrows = 1, ncols = 1, figsize = (4,5))\n",
    "\n",
    "# Make axs into an array to make indexing easier\n",
    "axs = np.atleast_1d(axs)\n",
    "\n",
    "# Plot the data\n",
    "axs[0].plot(accel, displacement, label = \"Acceleration\")\n",
    "axs[0].plot(velocity, displacement, label = \"Velocity\")\n",
    "\n",
    "# Format the plot\n",
    "axs[0].set_xlabel(\"Acceleration (g)/Velocity (m/s)\")\n",
    "axs[0].set_ylabel(\"Penetration Depth (cm)\")\n",
    "axs[0].invert_yaxis()\n",
    "axs[0].legend()\n",
    "\n",
    "plt.tight_layout()\n",
    "\n",
    "# Save the figure \n",
    "save = False\n",
    "if save: \n",
    "    axs[0].savefig(\"accel_depth profile\")\n",
    "\n",
    "plt.show()"
   ]
  },
  {
   "cell_type": "markdown",
   "metadata": {},
   "source": [
    "#### Generating the traditional plot at the file level\n",
    "\n",
    "There's also a function at the file level that can generate the acceleration/velocity plot for all of the drops in the file.\n",
    "\n",
    "**Note:** this function is going to be changed in the future so the plotting happens at the drop level and then this function just calls the drop function."
   ]
  },
  {
   "cell_type": "code",
   "execution_count": null,
   "metadata": {},
   "outputs": [],
   "source": [
    "figs = file.plot_drop_impulses(figsize = [4,6], hold = False, legend = True,\n",
    "                        colors = [\"black\", \"blue\", \"green\", \"orange\", \"purple\", \"brown\"],\n",
    "                        units = {\"Time\":\"s\", \"accel\":\"g\", \"velocity\":\"m/s\", \"displacement\":\"cm\"},\n",
    "                        line_style = [\"solid\", \"dashed\"],\n",
    "                        return_figs = True)"
   ]
  },
  {
   "cell_type": "code",
   "execution_count": null,
   "metadata": {},
   "outputs": [],
   "source": [
    "figs[0].savefig(\"/home/jmoore/Documents/Master_Thesis/chapters/Analysis_Lib/results_plots/accel_vel_disp_plot.pdf\", dpi =set_dpi)"
   ]
  },
  {
   "cell_type": "code",
   "execution_count": null,
   "metadata": {},
   "outputs": [],
   "source": []
  }
 ],
 "metadata": {
  "kernelspec": {
   "display_name": "PFFP_Analysis",
   "language": "python",
   "name": "python3"
  },
  "language_info": {
   "codemirror_mode": {
    "name": "ipython",
    "version": 3
   },
   "file_extension": ".py",
   "mimetype": "text/x-python",
   "name": "python",
   "nbconvert_exporter": "python",
   "pygments_lexer": "ipython3",
   "version": "3.12.5"
  }
 },
 "nbformat": 4,
 "nbformat_minor": 2
}
